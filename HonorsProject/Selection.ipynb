{
 "cells": [
  {
   "attachments": {},
   "cell_type": "markdown",
   "metadata": {},
   "source": [
    "# Selection Algorithm in Worst-Case Linear Time\n",
    "\n",
    "## Introduction\n",
    "\n",
    "We will be examining a selection algorithm, SELECT, whose worst case running time is *O*(*n*).\n",
    "\n",
    "The SELECT algorithm finds the desired element by recursively partitioning the input array. Unlike RANDOMIZED-SELECT, SELECT *guarantee's* a good split upon partitioning the array\n",
    "\n",
    "SELECT determines the *i*th smallest of an input array of *n* > 1 distinct elements by executing the steps below. (If *n* = 1, then SELECT simply returns its only input value as the *i*th smallest).\n",
    "\n",
    "### Set-Up\n",
    "\n",
    "Before we go through the steps of the SELECT algorithm, lets set up the input array."
   ]
  },
  {
   "cell_type": "code",
   "execution_count": 28,
   "metadata": {
    "tags": []
   },
   "outputs": [
    {
     "name": "stdout",
     "output_type": "stream",
     "text": [
      "[968, 521, 378, 161, 747, 673, 510, 61, 376, 239]\n"
     ]
    }
   ],
   "source": [
    "import random\n",
    "\n",
    "# Enter the size you want for the input array, i.e. 10, 100, 1000\n",
    "n = 10\n",
    "\n",
    "arrHighRng = n * 100\n",
    "\n",
    "inputArr = random.sample(range(0, arrHighRng), n)\n",
    "\n",
    "print(inputArr)"
   ]
  },
  {
   "attachments": {},
   "cell_type": "markdown",
   "metadata": {},
   "source": [
    "## Step 1: Divide\n",
    "\n",
    "In this step, we divide the *n* elements of the input array into ⌊*n*/5⌋  groups of 5 elements each except possibly the final group which may have less than 5 elements.\n",
    "\n",
    "**Analysis**: this step takes *O*(*n*) time"
   ]
  },
  {
   "cell_type": "code",
   "execution_count": 29,
   "metadata": {},
   "outputs": [
    {
     "name": "stdout",
     "output_type": "stream",
     "text": [
      "[[968, 521, 378, 161, 747], [673, 510, 61, 376, 239]]\n"
     ]
    }
   ],
   "source": [
    "def divideElements(l):\n",
    "    for i in range(0, len(l), 5):\n",
    "        yield l[i: i+5]\n",
    "\n",
    "groupEl = list(divideElements(inputArr))\n",
    "print(groupEl)"
   ]
  },
  {
   "attachments": {},
   "cell_type": "markdown",
   "metadata": {},
   "source": [
    "## Step 2: Medians\n",
    "\n",
    "Step 2 finds the median of each of the ⌈*n*/5⌉ groups we created in Step 1. This is by first insertion-sorting the elements of each group. Then, you pick the median from the sorted list of group elements.\n",
    "\n",
    "**Analysis**: this step takes *O*(*n*) time"
   ]
  },
  {
   "cell_type": "code",
   "execution_count": 46,
   "metadata": {},
   "outputs": [
    {
     "name": "stdout",
     "output_type": "stream",
     "text": [
      "Sorted group elements:  [[161, 378, 521, 747, 968], [61, 239, 376, 510, 673]] \n",
      "\n",
      "Group element medians:  [521, 376]\n"
     ]
    }
   ],
   "source": [
    "def insertionSort(arr):\n",
    "     for i in range(1, len(arr)):\n",
    "        key = arr[i]\n",
    "        j = i-1\n",
    "        \n",
    "        while j >= 0 and key < arr[j] :\n",
    "            arr[j + 1] = arr[j]\n",
    "            j -= 1\n",
    "        arr[j + 1] = key\n",
    "\n",
    "\n",
    "medians = []\n",
    "\n",
    "for i in range(len(groupArr)):\n",
    "    insertionSort(groupArr[i])\n",
    "    medians.append(groupArr[i][2])\n",
    "    \n",
    "print(\"Sorted group elements: \", groupArr, '\\n')\n",
    "\n",
    "print(\"Group element medians: \", medians)"
   ]
  },
  {
   "attachments": {},
   "cell_type": "markdown",
   "metadata": {},
   "source": [
    "## Step 3: Median of Medians\n",
    "\n",
    "In step 3 we will find the median of the ⌈*n*/5⌉ medians, *x*, found in step 2. This will be done by using SELECT recursively. (If there are an even number of medians, then by the convention given by the textbook, *x* is the lower median).\n",
    "\n",
    "**Analysis**: this step takes *T*(⌈*n*/5⌉) time"
   ]
  },
  {
   "cell_type": "code",
   "execution_count": 75,
   "metadata": {},
   "outputs": [
    {
     "ename": "ValueError",
     "evalue": "The truth value of an array with more than one element is ambiguous. Use a.any() or a.all()",
     "output_type": "error",
     "traceback": [
      "\u001b[0;31m---------------------------------------------------------------------------\u001b[0m",
      "\u001b[0;31mValueError\u001b[0m                                Traceback (most recent call last)",
      "Cell \u001b[0;32mIn[75], line 25\u001b[0m\n\u001b[1;32m     22\u001b[0m     \u001b[39melse\u001b[39;00m:\n\u001b[1;32m     23\u001b[0m         \u001b[39mreturn\u001b[39;00m pivot\n\u001b[0;32m---> 25\u001b[0m medOfMed \u001b[39m=\u001b[39m medianOfMedians(np\u001b[39m.\u001b[39;49marray(groupArr), \u001b[39mlen\u001b[39;49m(medians))\n\u001b[1;32m     27\u001b[0m \u001b[39mprint\u001b[39m(\u001b[39m\"\u001b[39m\u001b[39mMedian of medians: \u001b[39m\u001b[39m\"\u001b[39m, medOfMed)\n",
      "Cell \u001b[0;32mIn[75], line 14\u001b[0m, in \u001b[0;36mmedianOfMedians\u001b[0;34m(arr, i)\u001b[0m\n\u001b[1;32m     11\u001b[0m \u001b[39melse\u001b[39;00m:\n\u001b[1;32m     12\u001b[0m     pivot \u001b[39m=\u001b[39m median_of_medians(medians, \u001b[39mlen\u001b[39m(medians)\u001b[39m/\u001b[39m\u001b[39m2\u001b[39m)\n\u001b[0;32m---> 14\u001b[0m low \u001b[39m=\u001b[39m [j \u001b[39mfor\u001b[39;00m j \u001b[39min\u001b[39;00m arr \u001b[39mif\u001b[39;00m j \u001b[39m<\u001b[39m pivot]\n\u001b[1;32m     15\u001b[0m high \u001b[39m=\u001b[39m [j \u001b[39mfor\u001b[39;00m j \u001b[39min\u001b[39;00m arr \u001b[39mif\u001b[39;00m j \u001b[39m>\u001b[39m pivot]\n\u001b[1;32m     17\u001b[0m k \u001b[39m=\u001b[39m \u001b[39mlen\u001b[39m(low)\n",
      "Cell \u001b[0;32mIn[75], line 14\u001b[0m, in \u001b[0;36m<listcomp>\u001b[0;34m(.0)\u001b[0m\n\u001b[1;32m     11\u001b[0m \u001b[39melse\u001b[39;00m:\n\u001b[1;32m     12\u001b[0m     pivot \u001b[39m=\u001b[39m median_of_medians(medians, \u001b[39mlen\u001b[39m(medians)\u001b[39m/\u001b[39m\u001b[39m2\u001b[39m)\n\u001b[0;32m---> 14\u001b[0m low \u001b[39m=\u001b[39m [j \u001b[39mfor\u001b[39;00m j \u001b[39min\u001b[39;00m arr \u001b[39mif\u001b[39;00m j \u001b[39m<\u001b[39m pivot]\n\u001b[1;32m     15\u001b[0m high \u001b[39m=\u001b[39m [j \u001b[39mfor\u001b[39;00m j \u001b[39min\u001b[39;00m arr \u001b[39mif\u001b[39;00m j \u001b[39m>\u001b[39m pivot]\n\u001b[1;32m     17\u001b[0m k \u001b[39m=\u001b[39m \u001b[39mlen\u001b[39m(low)\n",
      "\u001b[0;31mValueError\u001b[0m: The truth value of an array with more than one element is ambiguous. Use a.any() or a.all()"
     ]
    }
   ],
   "source": [
    "import math\n",
    "import numpy as np\n",
    "\n",
    "def medianOfMedians(arr, i):\n",
    "    medOfMed = 0\n",
    "\n",
    "    if len(medians) == 1:\n",
    "        medOfMed = medians[0]\n",
    "    elif len(medians) <= 5:\n",
    "        pivot = sorted(medians)[math.floor(len(medians)/2)]\n",
    "    else:\n",
    "        pivot = median_of_medians(medians, len(medians)/2)\n",
    "    \n",
    "    low = [j for j in arr if j < pivot]\n",
    "    high = [j for j in arr if j > pivot]\n",
    "\n",
    "    k = len(low)\n",
    "    if i < k:\n",
    "        return median_of_medians(low,i)\n",
    "    elif i > k:\n",
    "        return median_of_medians(high,i-k-1)\n",
    "    else:\n",
    "        return pivot\n",
    "\n",
    "medOfMed = medianOfMedians(np.array(groupArr), len(medians))\n",
    "\n",
    "print(\"Median of medians: \", medOfMed)\n",
    "    "
   ]
  }
 ],
 "metadata": {
  "kernelspec": {
   "display_name": "Python 3",
   "language": "python",
   "name": "python3"
  },
  "language_info": {
   "codemirror_mode": {
    "name": "ipython",
    "version": 3
   },
   "file_extension": ".py",
   "mimetype": "text/x-python",
   "name": "python",
   "nbconvert_exporter": "python",
   "pygments_lexer": "ipython3",
   "version": "3.9.6"
  },
  "orig_nbformat": 4,
  "vscode": {
   "interpreter": {
    "hash": "31f2aee4e71d21fbe5cf8b01ff0e069b9275f58929596ceb00d14d90e3e16cd6"
   }
  }
 },
 "nbformat": 4,
 "nbformat_minor": 2
}
